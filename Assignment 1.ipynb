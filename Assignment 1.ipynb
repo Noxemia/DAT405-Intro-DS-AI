{
 "cells": [
  {
   "cell_type": "code",
   "execution_count": 135,
   "id": "f5f8500b",
   "metadata": {
    "scrolled": false
   },
   "outputs": [
    {
     "data": {
      "text/html": [
       "<div>\n",
       "<style scoped>\n",
       "    .dataframe tbody tr th:only-of-type {\n",
       "        vertical-align: middle;\n",
       "    }\n",
       "\n",
       "    .dataframe tbody tr th {\n",
       "        vertical-align: top;\n",
       "    }\n",
       "\n",
       "    .dataframe thead th {\n",
       "        text-align: right;\n",
       "    }\n",
       "</style>\n",
       "<table border=\"1\" class=\"dataframe\">\n",
       "  <thead>\n",
       "    <tr style=\"text-align: right;\">\n",
       "      <th></th>\n",
       "      <th>Entity</th>\n",
       "      <th>Code</th>\n",
       "      <th>Year</th>\n",
       "      <th>GDP per capita</th>\n",
       "      <th>Life expectancy</th>\n",
       "    </tr>\n",
       "  </thead>\n",
       "  <tbody>\n",
       "    <tr>\n",
       "      <th>46</th>\n",
       "      <td>Equatorial Guinea</td>\n",
       "      <td>GNQ</td>\n",
       "      <td>2015</td>\n",
       "      <td>35743</td>\n",
       "      <td>57.359</td>\n",
       "    </tr>\n",
       "  </tbody>\n",
       "</table>\n",
       "</div>"
      ],
      "text/plain": [
       "               Entity Code  Year  GDP per capita  Life expectancy\n",
       "46  Equatorial Guinea  GNQ  2015           35743           57.359"
      ]
     },
     "metadata": {},
     "output_type": "display_data"
    },
    {
     "data": {
      "text/html": [
       "<div>\n",
       "<style scoped>\n",
       "    .dataframe tbody tr th:only-of-type {\n",
       "        vertical-align: middle;\n",
       "    }\n",
       "\n",
       "    .dataframe tbody tr th {\n",
       "        vertical-align: top;\n",
       "    }\n",
       "\n",
       "    .dataframe thead th {\n",
       "        text-align: right;\n",
       "    }\n",
       "</style>\n",
       "<table border=\"1\" class=\"dataframe\">\n",
       "  <thead>\n",
       "    <tr style=\"text-align: right;\">\n",
       "      <th></th>\n",
       "      <th>Entity</th>\n",
       "      <th>Code</th>\n",
       "      <th>Year</th>\n",
       "      <th>GDP per capita</th>\n",
       "      <th>Life expectancy</th>\n",
       "    </tr>\n",
       "  </thead>\n",
       "  <tbody>\n",
       "    <tr>\n",
       "      <th>122</th>\n",
       "      <td>Russia</td>\n",
       "      <td>RUS</td>\n",
       "      <td>2015</td>\n",
       "      <td>23118</td>\n",
       "      <td>71.464</td>\n",
       "    </tr>\n",
       "  </tbody>\n",
       "</table>\n",
       "</div>"
      ],
      "text/plain": [
       "     Entity Code  Year  GDP per capita  Life expectancy\n",
       "122  Russia  RUS  2015           23118           71.464"
      ]
     },
     "execution_count": 135,
     "metadata": {},
     "output_type": "execute_result"
    },
    {
     "data": {
      "image/png": "[encoded data removed]",
      "text/plain": [
       "<Figure size 640x480 with 1 Axes>"
      ]
     },
     "metadata": {},
     "output_type": "display_data"
    }
   ],
   "source": [
    "import pandas as pd\n",
    "import numpy as np\n",
    "import matplotlib.pyplot as plt\n",
    "gdp = pd.read_csv(\"./datasets/GDP-2015.csv\")\n",
    "le = pd.read_csv(\"./datasets/life-expectancy.csv\")\n",
    "le = le[le[\"Year\"] == 2015]\n",
    "le = le.drop(columns = [\"Code\", \"Year\"])\n",
    "gdp = gdp.merge(le, left_on=\"Entity\", right_on=\"Entity\")\n",
    "x = np.array(gdp[\"GDP per capita\"])\n",
    "y = np.array(gdp[\"Life expectancy\"])\n",
    "world_index = gdp[\"Entity\"].tolist().index(\"World\")\n",
    "gdp.drop([world_index, world_index+1])\n",
    "plt.scatter(x,y)\n",
    "\n",
    "lestd = np.std(gdp[\"Life expectancy\"])\n",
    "lemean = np.mean(gdp[\"Life expectancy\"])\n",
    "\n",
    "lol = gdp[gdp[\"Life expectancy\"] <= lemean]\n",
    "lol = lol[lol[\"GDP per capita\"] >= 35000]\n",
    "gdpmean = np.mean(gdp[\"GDP per capita\"])\n",
    "display(lol)\n",
    "gdpmean\n",
    "\n",
    "lol = gdp[gdp[\"Entity\"] == \"Russia\"]\n",
    "#lol = lol[lol[\"GDP per capita\"] >= 120000]\n",
    "lol"
   ]
  }
 ],
 "metadata": {
  "kernelspec": {
   "display_name": "Python 3 (ipykernel)",
   "language": "python",
   "name": "python3"
  },
  "language_info": {
   "codemirror_mode": {
    "name": "ipython",
    "version": 3
   },
   "file_extension": ".py",
   "mimetype": "text/x-python",
   "name": "python",
   "nbconvert_exporter": "python",
   "pygments_lexer": "ipython3",
   "version": "3.9.13"
  }
 },
 "nbformat": 4,
 "nbformat_minor": 5
}
